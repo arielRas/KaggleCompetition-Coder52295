{
 "cells": [
  {
   "cell_type": "code",
   "execution_count": 132,
   "metadata": {},
   "outputs": [],
   "source": [
    "import pandas as pd\n",
    "from Functions import Metrics\n",
    "from sklearn.metrics import accuracy_score, roc_auc_score\n",
    "import math"
   ]
  },
  {
   "cell_type": "code",
   "execution_count": 133,
   "metadata": {},
   "outputs": [
    {
     "data": {
      "text/html": [
       "<div>\n",
       "<style scoped>\n",
       "    .dataframe tbody tr th:only-of-type {\n",
       "        vertical-align: middle;\n",
       "    }\n",
       "\n",
       "    .dataframe tbody tr th {\n",
       "        vertical-align: top;\n",
       "    }\n",
       "\n",
       "    .dataframe thead th {\n",
       "        text-align: right;\n",
       "    }\n",
       "</style>\n",
       "<table border=\"1\" class=\"dataframe\">\n",
       "  <thead>\n",
       "    <tr style=\"text-align: right;\">\n",
       "      <th></th>\n",
       "      <th>id</th>\n",
       "      <th>CustomerId</th>\n",
       "      <th>Surname</th>\n",
       "      <th>CreditScore</th>\n",
       "      <th>Geography</th>\n",
       "      <th>Gender</th>\n",
       "      <th>Age</th>\n",
       "      <th>Tenure</th>\n",
       "      <th>Balance</th>\n",
       "      <th>NumOfProducts</th>\n",
       "      <th>HasCrCard</th>\n",
       "      <th>IsActiveMember</th>\n",
       "      <th>EstimatedSalary</th>\n",
       "      <th>Exited</th>\n",
       "      <th>geo_cod</th>\n",
       "    </tr>\n",
       "  </thead>\n",
       "  <tbody>\n",
       "    <tr>\n",
       "      <th>0</th>\n",
       "      <td>0</td>\n",
       "      <td>15674932</td>\n",
       "      <td>Okwudilichukwu</td>\n",
       "      <td>668</td>\n",
       "      <td>France</td>\n",
       "      <td>1</td>\n",
       "      <td>33.0</td>\n",
       "      <td>3</td>\n",
       "      <td>0.0</td>\n",
       "      <td>2</td>\n",
       "      <td>1.0</td>\n",
       "      <td>0.0</td>\n",
       "      <td>181449.97</td>\n",
       "      <td>0</td>\n",
       "      <td>0</td>\n",
       "    </tr>\n",
       "    <tr>\n",
       "      <th>1</th>\n",
       "      <td>1</td>\n",
       "      <td>15749177</td>\n",
       "      <td>Okwudiliolisa</td>\n",
       "      <td>627</td>\n",
       "      <td>France</td>\n",
       "      <td>1</td>\n",
       "      <td>33.0</td>\n",
       "      <td>1</td>\n",
       "      <td>0.0</td>\n",
       "      <td>2</td>\n",
       "      <td>1.0</td>\n",
       "      <td>1.0</td>\n",
       "      <td>49503.50</td>\n",
       "      <td>0</td>\n",
       "      <td>0</td>\n",
       "    </tr>\n",
       "    <tr>\n",
       "      <th>2</th>\n",
       "      <td>2</td>\n",
       "      <td>15694510</td>\n",
       "      <td>Hsueh</td>\n",
       "      <td>678</td>\n",
       "      <td>France</td>\n",
       "      <td>1</td>\n",
       "      <td>40.0</td>\n",
       "      <td>10</td>\n",
       "      <td>0.0</td>\n",
       "      <td>2</td>\n",
       "      <td>1.0</td>\n",
       "      <td>0.0</td>\n",
       "      <td>184866.69</td>\n",
       "      <td>0</td>\n",
       "      <td>0</td>\n",
       "    </tr>\n",
       "  </tbody>\n",
       "</table>\n",
       "</div>"
      ],
      "text/plain": [
       "   id  CustomerId         Surname  CreditScore Geography  Gender   Age   \n",
       "0   0    15674932  Okwudilichukwu          668    France       1  33.0  \\\n",
       "1   1    15749177   Okwudiliolisa          627    France       1  33.0   \n",
       "2   2    15694510           Hsueh          678    France       1  40.0   \n",
       "\n",
       "   Tenure  Balance  NumOfProducts  HasCrCard  IsActiveMember  EstimatedSalary   \n",
       "0       3      0.0              2        1.0             0.0        181449.97  \\\n",
       "1       1      0.0              2        1.0             1.0         49503.50   \n",
       "2      10      0.0              2        1.0             0.0        184866.69   \n",
       "\n",
       "   Exited  geo_cod  \n",
       "0       0        0  \n",
       "1       0        0  \n",
       "2       0        0  "
      ]
     },
     "execution_count": 133,
     "metadata": {},
     "output_type": "execute_result"
    }
   ],
   "source": [
    "df = pd.read_csv('train_clean.csv')\n",
    "df.head(3)"
   ]
  },
  {
   "cell_type": "markdown",
   "metadata": {},
   "source": [
    "## Modelado"
   ]
  },
  {
   "cell_type": "markdown",
   "metadata": {},
   "source": [
    "### Feature Engineering"
   ]
  },
  {
   "cell_type": "code",
   "execution_count": 134,
   "metadata": {},
   "outputs": [
    {
     "name": "stdout",
     "output_type": "stream",
     "text": [
      "Filas y columnas: (104763, 15)\n"
     ]
    }
   ],
   "source": [
    "#NUMERO DE OBSERVACIONES QUE SE FUEROND EL BANCO\n",
    "n_exited = df.loc[df.Exited == 1].shape[0]\n",
    "\n",
    "#DATAFRAME COMPLEMENTARIO CON MUESTRAS DE AQUELLAS QUE NO\n",
    "df_sample = df.loc[df.Exited == 0].sample(n=n_exited*2, random_state=5)\n",
    "\n",
    "#UNION DE REGISTROS\n",
    "df_sample = pd.concat([df_sample,\n",
    "                       df.loc[df.Exited == 1]],\n",
    "                       axis=0)\n",
    "\n",
    "df_sample = df_sample.reset_index(drop=True)\n",
    "print(f'Filas y columnas: {df_sample.shape}')\n"
   ]
  },
  {
   "cell_type": "code",
   "execution_count": 135,
   "metadata": {},
   "outputs": [
    {
     "data": {
      "text/html": [
       "<div>\n",
       "<style scoped>\n",
       "    .dataframe tbody tr th:only-of-type {\n",
       "        vertical-align: middle;\n",
       "    }\n",
       "\n",
       "    .dataframe tbody tr th {\n",
       "        vertical-align: top;\n",
       "    }\n",
       "\n",
       "    .dataframe thead th {\n",
       "        text-align: right;\n",
       "    }\n",
       "</style>\n",
       "<table border=\"1\" class=\"dataframe\">\n",
       "  <thead>\n",
       "    <tr style=\"text-align: right;\">\n",
       "      <th></th>\n",
       "      <th>France</th>\n",
       "      <th>Germany</th>\n",
       "      <th>Spain</th>\n",
       "    </tr>\n",
       "  </thead>\n",
       "  <tbody>\n",
       "    <tr>\n",
       "      <th>0</th>\n",
       "      <td>1</td>\n",
       "      <td>0</td>\n",
       "      <td>0</td>\n",
       "    </tr>\n",
       "    <tr>\n",
       "      <th>1</th>\n",
       "      <td>1</td>\n",
       "      <td>0</td>\n",
       "      <td>0</td>\n",
       "    </tr>\n",
       "    <tr>\n",
       "      <th>2</th>\n",
       "      <td>1</td>\n",
       "      <td>0</td>\n",
       "      <td>0</td>\n",
       "    </tr>\n",
       "    <tr>\n",
       "      <th>3</th>\n",
       "      <td>1</td>\n",
       "      <td>0</td>\n",
       "      <td>0</td>\n",
       "    </tr>\n",
       "    <tr>\n",
       "      <th>4</th>\n",
       "      <td>1</td>\n",
       "      <td>0</td>\n",
       "      <td>0</td>\n",
       "    </tr>\n",
       "  </tbody>\n",
       "</table>\n",
       "</div>"
      ],
      "text/plain": [
       "   France  Germany  Spain\n",
       "0       1        0      0\n",
       "1       1        0      0\n",
       "2       1        0      0\n",
       "3       1        0      0\n",
       "4       1        0      0"
      ]
     },
     "execution_count": 135,
     "metadata": {},
     "output_type": "execute_result"
    }
   ],
   "source": [
    "dummies = pd.get_dummies(df_sample['Geography'], dtype=int)\n",
    "dummies.head()"
   ]
  },
  {
   "cell_type": "code",
   "execution_count": 136,
   "metadata": {},
   "outputs": [
    {
     "data": {
      "text/html": [
       "<div>\n",
       "<style scoped>\n",
       "    .dataframe tbody tr th:only-of-type {\n",
       "        vertical-align: middle;\n",
       "    }\n",
       "\n",
       "    .dataframe tbody tr th {\n",
       "        vertical-align: top;\n",
       "    }\n",
       "\n",
       "    .dataframe thead th {\n",
       "        text-align: right;\n",
       "    }\n",
       "</style>\n",
       "<table border=\"1\" class=\"dataframe\">\n",
       "  <thead>\n",
       "    <tr style=\"text-align: right;\">\n",
       "      <th></th>\n",
       "      <th>Age</th>\n",
       "      <th>Balance</th>\n",
       "    </tr>\n",
       "  </thead>\n",
       "  <tbody>\n",
       "    <tr>\n",
       "      <th>0</th>\n",
       "      <td>-0.221199</td>\n",
       "      <td>1.400622</td>\n",
       "    </tr>\n",
       "    <tr>\n",
       "      <th>1</th>\n",
       "      <td>0.325969</td>\n",
       "      <td>-0.916580</td>\n",
       "    </tr>\n",
       "    <tr>\n",
       "      <th>2</th>\n",
       "      <td>-0.111766</td>\n",
       "      <td>-0.916580</td>\n",
       "    </tr>\n",
       "  </tbody>\n",
       "</table>\n",
       "</div>"
      ],
      "text/plain": [
       "        Age   Balance\n",
       "0 -0.221199  1.400622\n",
       "1  0.325969 -0.916580\n",
       "2 -0.111766 -0.916580"
      ]
     },
     "execution_count": 136,
     "metadata": {},
     "output_type": "execute_result"
    }
   ],
   "source": [
    "#NORMALIZACION\n",
    "from sklearn.preprocessing import StandardScaler\n",
    "\n",
    "#LISTA DE VARIABLES A NORMALIZAR\n",
    "vars = ['Age','Balance']#'CreditScore',\n",
    "\n",
    "#INSTANCIA DEL MODELO Y TRANSOFRMACION\n",
    "std_vars = StandardScaler().fit_transform(df_sample[vars])\n",
    "\n",
    "#SE CREA DATAFRAME COMPLEMETARIO\n",
    "std_vars = pd.DataFrame(std_vars, columns=vars)\n",
    "std_vars.head(3)"
   ]
  },
  {
   "cell_type": "code",
   "execution_count": 137,
   "metadata": {},
   "outputs": [],
   "source": [
    "#SELECCION DE VARIABLES\n",
    "vars = ['NumOfProducts','IsActiveMember','Gender']\n",
    "\n",
    "#VARIABLES PREDICTIVAS\n",
    "x = pd.concat([df_sample[vars],\n",
    "                std_vars,\n",
    "                dummies], axis=1)\n",
    "\n",
    "#VARIABLE OBJETIVO\n",
    "y = df_sample.Exited"
   ]
  },
  {
   "cell_type": "code",
   "execution_count": 138,
   "metadata": {},
   "outputs": [],
   "source": [
    "#IMPORTACION DE LIBRERIA\n",
    "from sklearn.model_selection import train_test_split\n",
    "\n",
    "#DIVISION DE DATOS PARA TRAIN Y TEST\n",
    "X_train, X_test, y_train, y_test = train_test_split(x, y, test_size=0.33, stratify=y,random_state=42)"
   ]
  },
  {
   "cell_type": "markdown",
   "metadata": {},
   "source": [
    "### KNN - Entrenamiento y validacion simple del modelo"
   ]
  },
  {
   "cell_type": "code",
   "execution_count": 139,
   "metadata": {},
   "outputs": [
    {
     "name": "stdout",
     "output_type": "stream",
     "text": [
      "Accuracy: 0.8243\n"
     ]
    }
   ],
   "source": [
    "from sklearn.neighbors import KNeighborsClassifier\n",
    "\n",
    "\n",
    "#INSTANCIA Y ENTRENAMIENTO DEL MODELO\n",
    "model = KNeighborsClassifier(n_neighbors=35)\n",
    "model.fit(X_train, y_train)\n",
    "\n",
    "#PREDICCION\n",
    "y_pred = model.predict(X_test)\n",
    "accuracy = accuracy_score(y_true=y_test ,y_pred=y_pred)\n",
    "print(f'Accuracy: {accuracy:.4f}')"
   ]
  },
  {
   "cell_type": "code",
   "execution_count": 140,
   "metadata": {},
   "outputs": [
    {
     "data": {
      "image/png": "[encoded data removed]",
      "text/plain": [
       "<Figure size 640x480 with 2 Axes>"
      ]
     },
     "metadata": {},
     "output_type": "display_data"
    }
   ],
   "source": [
    "#GRAFICO MATRIZ DE CONFUSION\n",
    "Metrics().plot_confusion_matrix_dicotomic(y_test, y_pred, None, None)"
   ]
  },
  {
   "cell_type": "code",
   "execution_count": 141,
   "metadata": {},
   "outputs": [
    {
     "name": "stdout",
     "output_type": "stream",
     "text": [
      "              precision    recall  f1-score   support\n",
      "\n",
      "           0       0.84      0.90      0.87     23048\n",
      "           1       0.77      0.67      0.72     11524\n",
      "\n",
      "    accuracy                           0.82     34572\n",
      "   macro avg       0.81      0.79      0.79     34572\n",
      "weighted avg       0.82      0.82      0.82     34572\n",
      "\n"
     ]
    }
   ],
   "source": [
    "#REPORTE\n",
    "from sklearn.metrics import classification_report\n",
    "print(classification_report(y_test, y_pred))"
   ]
  },
  {
   "cell_type": "code",
   "execution_count": 142,
   "metadata": {},
   "outputs": [
    {
     "name": "stdout",
     "output_type": "stream",
     "text": [
      "Score curva ROC: 0.8826\n"
     ]
    }
   ],
   "source": [
    "#SCORE CURVA ROC\n",
    "y_prob = model.predict_proba(X_test)[:,1]\n",
    "print(f'Score curva ROC: {roc_auc_score(y_test, y_prob):.4f}')"
   ]
  },
  {
   "cell_type": "markdown",
   "metadata": {},
   "source": [
    "### Random Forest - Entrenamiento y validacion simple del modelo"
   ]
  },
  {
   "cell_type": "code",
   "execution_count": 143,
   "metadata": {},
   "outputs": [],
   "source": [
    "#IMPOTRACION DE MODELO PARA TEST DE PARAMETROS\n",
    "from sklearn.model_selection import GridSearchCV\n",
    "from sklearn.ensemble import RandomForestClassifier\n",
    "\n",
    "grid_param = param_grid = {\n",
    "    'criterion' : ['entropy'],\n",
    "    'n_estimators': [200, 300],\n",
    "    'max_depth': [10, 18, 20],\n",
    "    #'max_features' : [0.5],\n",
    "    'min_samples_split': [5, 10],\n",
    "    'min_samples_leaf': [2, 4],\n",
    "    'bootstrap': [True, False],\n",
    "    'random_state': [42]\n",
    "}"
   ]
  },
  {
   "cell_type": "markdown",
   "metadata": {},
   "source": [
    "#SE ENTRENA MODELO UTILIZANDO GRIDSEARCH\n",
    "model = GridSearchCV(estimator=RandomForestClassifier(),\n",
    "                     param_grid=param_grid,\n",
    "                     cv=3, n_jobs=-1,\n",
    "                     scoring='accuracy')\n",
    "\n",
    "model.fit(X_train, y_train)\n",
    "\n",
    "model.best_score_"
   ]
  },
  {
   "cell_type": "code",
   "execution_count": 144,
   "metadata": {},
   "outputs": [
    {
     "name": "stdout",
     "output_type": "stream",
     "text": [
      "Accuracy: 0.8251\n"
     ]
    }
   ],
   "source": [
    "from sklearn.ensemble import RandomForestClassifier\n",
    "\n",
    "#INSTANCIA Y ENTRENAMIENTO DEL MODELO\n",
    "model = RandomForestClassifier( bootstrap=True,\n",
    "                                criterion='entropy',\n",
    "                                max_depth=10,\n",
    "                                min_samples_leaf=4,\n",
    "                                min_samples_split=5,\n",
    "                                n_estimators=200,\n",
    "                                random_state=42)\n",
    "model.fit(X_train, y_train)\n",
    "\n",
    "#PREDICCION\n",
    "y_pred = model.predict(X_test)\n",
    "accuracy = accuracy_score(y_true=y_test ,y_pred=y_pred)\n",
    "print(f'Accuracy: {accuracy:.4f}')"
   ]
  },
  {
   "cell_type": "code",
   "execution_count": 145,
   "metadata": {},
   "outputs": [
    {
     "data": {
      "image/png": "[encoded data removed]",
      "text/plain": [
       "<Figure size 640x480 with 2 Axes>"
      ]
     },
     "metadata": {},
     "output_type": "display_data"
    }
   ],
   "source": [
    "#GRAFICO DE MATRIZ DE CONFUSION\n",
    "Metrics().plot_confusion_matrix_dicotomic(y_test, y_pred, None, None)"
   ]
  },
  {
   "cell_type": "code",
   "execution_count": 38,
   "metadata": {},
   "outputs": [
    {
     "name": "stdout",
     "output_type": "stream",
     "text": [
      "              precision    recall  f1-score   support\n",
      "\n",
      "           0       0.84      0.91      0.87     23048\n",
      "           1       0.78      0.65      0.71     11524\n",
      "\n",
      "    accuracy                           0.82     34572\n",
      "   macro avg       0.81      0.78      0.79     34572\n",
      "weighted avg       0.82      0.82      0.82     34572\n",
      "\n"
     ]
    }
   ],
   "source": [
    "#REPORTE\n",
    "from sklearn.metrics import classification_report\n",
    "print(classification_report(y_test, y_pred))"
   ]
  },
  {
   "cell_type": "code",
   "execution_count": 39,
   "metadata": {},
   "outputs": [
    {
     "name": "stdout",
     "output_type": "stream",
     "text": [
      "Score curva ROC: 0.8866\n"
     ]
    }
   ],
   "source": [
    "#SCORE CURVA ROC\n",
    "y_prob = model.predict_proba(X_test)[:,1]\n",
    "print(f'Score curva ROC: {roc_auc_score(y_test, y_prob):.4f}')"
   ]
  },
  {
   "cell_type": "code",
   "execution_count": 14,
   "metadata": {},
   "outputs": [
    {
     "data": {
      "image/png": "[encoded data removed]",
      "text/plain": [
       "<Figure size 640x480 with 1 Axes>"
      ]
     },
     "metadata": {},
     "output_type": "display_data"
    }
   ],
   "source": [
    "#PLOT CURVE ROC\n",
    "Metrics().plot_roc_curve(y_test, y_prob)"
   ]
  },
  {
   "cell_type": "markdown",
   "metadata": {},
   "source": [
    "### XG-Boost - Entrenamiento y validacion simple del modelo"
   ]
  },
  {
   "cell_type": "code",
   "execution_count": 146,
   "metadata": {},
   "outputs": [],
   "source": [
    "#IMPOTRACION DE MODELO PARA TEST DE PARAMETROS\n",
    "from sklearn.model_selection import GridSearchCV\n",
    "\n",
    "#GRILLA DE PARAMETROS PARA TESTEAR\n",
    "param_grid = {\n",
    "    'objective' :['binary:logistic'],\n",
    "    'max_depth': [10, 15],\n",
    "    'learning_rate': [0.1, 0.2],\n",
    "    'n_estimators': [9, 15],\n",
    "    'subsample': [0.8, 0.9],\n",
    "    'colsample_bytree': [0.8, 0.9],\n",
    "    'gamma': [0.1, 0.2],\n",
    "    'random_state': [47]\n",
    "}"
   ]
  },
  {
   "cell_type": "code",
   "execution_count": 147,
   "metadata": {},
   "outputs": [
    {
     "data": {
      "text/plain": [
       "0.8258706467661692"
      ]
     },
     "execution_count": 147,
     "metadata": {},
     "output_type": "execute_result"
    }
   ],
   "source": [
    "#IMPORTACION MODELO DE BOOOSTING\n",
    "from xgboost import XGBClassifier\n",
    "\n",
    "#SE ENTRENA MODELO UTILIZANDO GRIDSEARCH\n",
    "#model = GridSearchCV(estimator=XGBClassifier(),\n",
    "#                     param_grid=param_grid,\n",
    "#                     cv=3, n_jobs=-1,\n",
    "#                     scoring='accuracy')\n",
    "\n",
    "\n",
    "model = XGBClassifier( objective = 'binary:logistic',\n",
    "                       max_depth = 10,\n",
    "                       learning_rate = 0.2,\n",
    "                       n_estimators = 15,\n",
    "                       subsample = 0.9,\n",
    "                       colsample_bytree = 0.8,\n",
    "                       gamma = 0.2,\n",
    "                       random_state = 47)\n",
    "\n",
    "#ENTRENAMIENTO\n",
    "model.fit(X_train,y_train)\n",
    "\n",
    "#PREDICCION\n",
    "y_pred = model.predict(X_test)\n",
    "\n",
    "#SCORE\n",
    "accuracy_score(y_true=y_test, y_pred=y_pred)"
   ]
  },
  {
   "cell_type": "code",
   "execution_count": 148,
   "metadata": {},
   "outputs": [
    {
     "data": {
      "image/png": "[encoded data removed]",
      "text/plain": [
       "<Figure size 640x480 with 2 Axes>"
      ]
     },
     "metadata": {},
     "output_type": "display_data"
    }
   ],
   "source": [
    "Metrics().plot_confusion_matrix_dicotomic(y_test, y_pred, None, None)"
   ]
  },
  {
   "cell_type": "code",
   "execution_count": 46,
   "metadata": {},
   "outputs": [
    {
     "name": "stdout",
     "output_type": "stream",
     "text": [
      "Score curva ROC: 0.8859\n"
     ]
    }
   ],
   "source": [
    "#SCORE CURVA ROC\n",
    "y_prob = model.predict_proba(X_test)[:,1]\n",
    "print(f'Score curva ROC: {roc_auc_score(y_test, y_prob):.4f}')"
   ]
  },
  {
   "cell_type": "code",
   "execution_count": 47,
   "metadata": {},
   "outputs": [
    {
     "name": "stdout",
     "output_type": "stream",
     "text": [
      "              precision    recall  f1-score   support\n",
      "\n",
      "           0       0.84      0.91      0.87     23048\n",
      "           1       0.78      0.65      0.71     11524\n",
      "\n",
      "    accuracy                           0.82     34572\n",
      "   macro avg       0.81      0.78      0.79     34572\n",
      "weighted avg       0.82      0.82      0.82     34572\n",
      "\n"
     ]
    }
   ],
   "source": [
    "#REPORTE\n",
    "from sklearn.metrics import classification_report\n",
    "print(classification_report(y_test, y_pred))"
   ]
  },
  {
   "cell_type": "code",
   "execution_count": 45,
   "metadata": {},
   "outputs": [
    {
     "data": {
      "image/png": "[encoded data removed]",
      "text/plain": [
       "<Figure size 640x480 with 1 Axes>"
      ]
     },
     "metadata": {},
     "output_type": "display_data"
    }
   ],
   "source": [
    "#PLOT CURVE ROC\n",
    "Metrics().plot_roc_curve(y_test, y_prob)"
   ]
  },
  {
   "cell_type": "markdown",
   "metadata": {},
   "source": [
    "model = GridSearchCV(DecisionTreeClassifier(),\n",
    "                     param_grid=param_grid,\n",
    "                     cv=3,\n",
    "                     n_jobs=-1,\n",
    "                     scoring='accuracy')\n",
    "\n",
    "model.fit(X_train, y_train)\n",
    "\n",
    "print(f'Mejor puntaje de validacion cruzada(en entrenamiento): {model.best_score_}')\n",
    "print('\\nMejores parametros:')\n",
    "for key, value in model.best_params_.items():\n",
    "    print(f'\\t{key}: {value}')"
   ]
  },
  {
   "cell_type": "markdown",
   "metadata": {},
   "source": [
    "### Prediccion"
   ]
  },
  {
   "cell_type": "code",
   "execution_count": 21,
   "metadata": {},
   "outputs": [],
   "source": [
    "df_test = pd.read_csv('test.csv')"
   ]
  },
  {
   "cell_type": "code",
   "execution_count": 22,
   "metadata": {},
   "outputs": [],
   "source": [
    "#TRANSFORMACION VARIABLE GENDER\n",
    "df_test.loc[df_test.Gender == 'Female', 'Gender'] = '0'\n",
    "df_test.loc[df_test.Gender == 'Male', 'Gender'] = '1'\n",
    "df_test.Gender = df_test.Gender.astype(int)\n",
    "df_test.Gender.value_counts()\n",
    "\n",
    "#TRANSFORMACION DE VARIABLES CATEGORICAS\n",
    "dummies = pd.get_dummies(df_test['Geography'], dtype=int)\n",
    "dummies.head()\n",
    "\n",
    "#LISTA DE VARIABLES A NORMALIZAR\n",
    "vars = ['Age','Balance']\n",
    "\n",
    "#INSTANCIA DEL MODELO Y TRANSOFRMACION\n",
    "std_vars = StandardScaler().fit_transform(df_test[vars])\n",
    "\n",
    "#SE CREA DATAFRAME COMPLEMETARIO\n",
    "std_vars = pd.DataFrame(std_vars, columns=vars)\n",
    "\n",
    "#SELECCION DE VARIABLES\n",
    "vars = ['NumOfProducts','IsActiveMember','Gender']\n",
    "\n",
    "#VARIABLES PREDICTIVAS\n",
    "x = pd.concat([df_test[vars],\n",
    "                std_vars,\n",
    "                dummies], axis=1)\n",
    "\n",
    "#PREDICCION\n",
    "y_pred = model.predict(x)"
   ]
  },
  {
   "cell_type": "code",
   "execution_count": 23,
   "metadata": {},
   "outputs": [],
   "source": [
    "#CONCATENACION DE ARCHIVO PARA EXPORTAR\n",
    "y_pred = pd.Series(y_pred, name='Exited')\n",
    "sample_submission = pd.concat([df_test.id, y_pred], axis=1)"
   ]
  },
  {
   "cell_type": "code",
   "execution_count": 24,
   "metadata": {},
   "outputs": [],
   "source": [
    "#sample_submission.to_csv('submission.csv', index=False)"
   ]
  },
  {
   "cell_type": "code",
   "execution_count": 25,
   "metadata": {},
   "outputs": [
    {
     "data": {
      "text/html": [
       "<div>\n",
       "<style scoped>\n",
       "    .dataframe tbody tr th:only-of-type {\n",
       "        vertical-align: middle;\n",
       "    }\n",
       "\n",
       "    .dataframe tbody tr th {\n",
       "        vertical-align: top;\n",
       "    }\n",
       "\n",
       "    .dataframe thead th {\n",
       "        text-align: right;\n",
       "    }\n",
       "</style>\n",
       "<table border=\"1\" class=\"dataframe\">\n",
       "  <thead>\n",
       "    <tr style=\"text-align: right;\">\n",
       "      <th></th>\n",
       "      <th>id</th>\n",
       "      <th>Exited</th>\n",
       "    </tr>\n",
       "  </thead>\n",
       "  <tbody>\n",
       "    <tr>\n",
       "      <th>0</th>\n",
       "      <td>165034</td>\n",
       "      <td>0</td>\n",
       "    </tr>\n",
       "    <tr>\n",
       "      <th>1</th>\n",
       "      <td>165035</td>\n",
       "      <td>1</td>\n",
       "    </tr>\n",
       "    <tr>\n",
       "      <th>2</th>\n",
       "      <td>165036</td>\n",
       "      <td>0</td>\n",
       "    </tr>\n",
       "    <tr>\n",
       "      <th>3</th>\n",
       "      <td>165037</td>\n",
       "      <td>0</td>\n",
       "    </tr>\n",
       "    <tr>\n",
       "      <th>4</th>\n",
       "      <td>165038</td>\n",
       "      <td>1</td>\n",
       "    </tr>\n",
       "  </tbody>\n",
       "</table>\n",
       "</div>"
      ],
      "text/plain": [
       "       id  Exited\n",
       "0  165034       0\n",
       "1  165035       1\n",
       "2  165036       0\n",
       "3  165037       0\n",
       "4  165038       1"
      ]
     },
     "execution_count": 25,
     "metadata": {},
     "output_type": "execute_result"
    }
   ],
   "source": [
    "sample_submission.head()"
   ]
  }
 ],
 "metadata": {
  "kernelspec": {
   "display_name": "Python 3",
   "language": "python",
   "name": "python3"
  },
  "language_info": {
   "codemirror_mode": {
    "name": "ipython",
    "version": 3
   },
   "file_extension": ".py",
   "mimetype": "text/x-python",
   "name": "python",
   "nbconvert_exporter": "python",
   "pygments_lexer": "ipython3",
   "version": "3.11.3"
  }
 },
 "nbformat": 4,
 "nbformat_minor": 2
}
