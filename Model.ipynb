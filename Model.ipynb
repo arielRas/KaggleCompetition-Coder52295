{
 "cells": [
  {
   "cell_type": "code",
   "execution_count": 150,
   "metadata": {},
   "outputs": [],
   "source": [
    "import pandas as pd\n",
    "import matplotlib as mpl\n",
    "from matplotlib import pyplot as plt\n",
    "import seaborn as sns\n",
    "from Functions import Correlations, Distributions, Metrics\n",
    "from sklearn.metrics import roc_auc_score, accuracy_score, classification_report\n",
    "from sklearn.model_selection import train_test_split"
   ]
  },
  {
   "cell_type": "code",
   "execution_count": 151,
   "metadata": {},
   "outputs": [],
   "source": [
    "df = pd.read_csv('train_clean.csv')"
   ]
  },
  {
   "cell_type": "markdown",
   "metadata": {},
   "source": [
    "## Modelado"
   ]
  },
  {
   "cell_type": "markdown",
   "metadata": {},
   "source": [
    "### Feature Engineering"
   ]
  },
  {
   "cell_type": "code",
   "execution_count": 152,
   "metadata": {},
   "outputs": [
    {
     "data": {
      "text/html": [
       "<div>\n",
       "<style scoped>\n",
       "    .dataframe tbody tr th:only-of-type {\n",
       "        vertical-align: middle;\n",
       "    }\n",
       "\n",
       "    .dataframe tbody tr th {\n",
       "        vertical-align: top;\n",
       "    }\n",
       "\n",
       "    .dataframe thead th {\n",
       "        text-align: right;\n",
       "    }\n",
       "</style>\n",
       "<table border=\"1\" class=\"dataframe\">\n",
       "  <thead>\n",
       "    <tr style=\"text-align: right;\">\n",
       "      <th></th>\n",
       "      <th>France</th>\n",
       "      <th>Germany</th>\n",
       "      <th>Spain</th>\n",
       "    </tr>\n",
       "  </thead>\n",
       "  <tbody>\n",
       "    <tr>\n",
       "      <th>0</th>\n",
       "      <td>1</td>\n",
       "      <td>0</td>\n",
       "      <td>0</td>\n",
       "    </tr>\n",
       "    <tr>\n",
       "      <th>1</th>\n",
       "      <td>1</td>\n",
       "      <td>0</td>\n",
       "      <td>0</td>\n",
       "    </tr>\n",
       "    <tr>\n",
       "      <th>2</th>\n",
       "      <td>1</td>\n",
       "      <td>0</td>\n",
       "      <td>0</td>\n",
       "    </tr>\n",
       "    <tr>\n",
       "      <th>3</th>\n",
       "      <td>1</td>\n",
       "      <td>0</td>\n",
       "      <td>0</td>\n",
       "    </tr>\n",
       "    <tr>\n",
       "      <th>4</th>\n",
       "      <td>0</td>\n",
       "      <td>0</td>\n",
       "      <td>1</td>\n",
       "    </tr>\n",
       "  </tbody>\n",
       "</table>\n",
       "</div>"
      ],
      "text/plain": [
       "   France  Germany  Spain\n",
       "0       1        0      0\n",
       "1       1        0      0\n",
       "2       1        0      0\n",
       "3       1        0      0\n",
       "4       0        0      1"
      ]
     },
     "execution_count": 152,
     "metadata": {},
     "output_type": "execute_result"
    }
   ],
   "source": [
    "#EnCODING DE VARIABLES CUALITATIVAS\n",
    "dummies = pd.get_dummies(df['Geography'], dtype=int)\n",
    "dummies.head()"
   ]
  },
  {
   "cell_type": "code",
   "execution_count": 153,
   "metadata": {},
   "outputs": [
    {
     "data": {
      "text/html": [
       "<div>\n",
       "<style scoped>\n",
       "    .dataframe tbody tr th:only-of-type {\n",
       "        vertical-align: middle;\n",
       "    }\n",
       "\n",
       "    .dataframe tbody tr th {\n",
       "        vertical-align: top;\n",
       "    }\n",
       "\n",
       "    .dataframe thead th {\n",
       "        text-align: right;\n",
       "    }\n",
       "</style>\n",
       "<table border=\"1\" class=\"dataframe\">\n",
       "  <thead>\n",
       "    <tr style=\"text-align: right;\">\n",
       "      <th></th>\n",
       "      <th>Age</th>\n",
       "      <th>Balance</th>\n",
       "    </tr>\n",
       "  </thead>\n",
       "  <tbody>\n",
       "    <tr>\n",
       "      <th>0</th>\n",
       "      <td>-0.578074</td>\n",
       "      <td>-0.883163</td>\n",
       "    </tr>\n",
       "    <tr>\n",
       "      <th>1</th>\n",
       "      <td>-0.578074</td>\n",
       "      <td>-0.883163</td>\n",
       "    </tr>\n",
       "    <tr>\n",
       "      <th>2</th>\n",
       "      <td>0.211354</td>\n",
       "      <td>-0.883163</td>\n",
       "    </tr>\n",
       "  </tbody>\n",
       "</table>\n",
       "</div>"
      ],
      "text/plain": [
       "        Age   Balance\n",
       "0 -0.578074 -0.883163\n",
       "1 -0.578074 -0.883163\n",
       "2  0.211354 -0.883163"
      ]
     },
     "execution_count": 153,
     "metadata": {},
     "output_type": "execute_result"
    }
   ],
   "source": [
    "#NORMALIZACION\n",
    "from sklearn.preprocessing import StandardScaler\n",
    "\n",
    "#LISTA DE VARIABLES A NORMALIZAR\n",
    "vars = ['Age','Balance']#'CreditScore',\n",
    "\n",
    "#INSTANCIA DEL MODELO Y TRANSOFRMACION\n",
    "std_vars = StandardScaler().fit_transform(df[vars])\n",
    "\n",
    "#SE CREA DATAFRAME COMPLEMETARIO\n",
    "std_vars = pd.DataFrame(std_vars, columns=vars)\n",
    "std_vars.head(3)"
   ]
  },
  {
   "cell_type": "code",
   "execution_count": 154,
   "metadata": {},
   "outputs": [],
   "source": [
    "#SELECCION DE VARIABLES\n",
    "vars = ['NumOfProducts','IsActiveMember','Gender']\n",
    "\n",
    "#VARIABLES PREDICTIVAS\n",
    "x = pd.concat([df[vars],\n",
    "                std_vars,\n",
    "                dummies], axis=1)\n",
    "\n",
    "#VARIABLE OBJETIVO\n",
    "y = df.Exited"
   ]
  },
  {
   "cell_type": "markdown",
   "metadata": {},
   "source": [
    "### UnderSample"
   ]
  },
  {
   "cell_type": "code",
   "execution_count": 155,
   "metadata": {},
   "outputs": [
    {
     "name": "stdout",
     "output_type": "stream",
     "text": [
      "Cantidad de observaciones con clase 0: 130113\n",
      "Cantidad de observaciones con clase 1: 34921\n"
     ]
    }
   ],
   "source": [
    "#DISTRIBUCION DE LAS CLASES EN Y\n",
    "print(f'Cantidad de observaciones con clase 0: {sum(y==0)}')\n",
    "print(f'Cantidad de observaciones con clase 1: {sum(y==1)}')"
   ]
  },
  {
   "cell_type": "code",
   "execution_count": 156,
   "metadata": {},
   "outputs": [
    {
     "name": "stdout",
     "output_type": "stream",
     "text": [
      "Cantidad de observaciones con clase 0: 97584\n",
      "Cantidad de observaciones con clase 1: 34921\n"
     ]
    }
   ],
   "source": [
    "#IMPORTACION DE LIBRERIA\n",
    "from imblearn.under_sampling import RandomUnderSampler\n",
    "\n",
    "#PORCENTAJE DE REDUCCION VARIABLE MAYORITARIA\n",
    "perc_reduce = int(sum(y==0)*0.75)\n",
    "\n",
    "#SET HIPERPARAMETRO\n",
    "sampling_strategy = {0:perc_reduce, 1:sum(y==1)}\n",
    "\n",
    "#INSTANCIA ,ENTRAMIENTO Y TRANSFORMACION DEL MODELO\n",
    "rus = RandomUnderSampler(sampling_strategy=sampling_strategy, random_state=42)\n",
    "x_under, y_under = rus.fit_resample(x, y)\n",
    "\n",
    "#RESULTADO\n",
    "print(f'Cantidad de observaciones con clase 0: {sum(y_under==0)}')\n",
    "print(f'Cantidad de observaciones con clase 1: {sum(y_under==1)}')\n"
   ]
  },
  {
   "cell_type": "markdown",
   "metadata": {},
   "source": [
    "### OverSample"
   ]
  },
  {
   "cell_type": "code",
   "execution_count": 157,
   "metadata": {},
   "outputs": [
    {
     "name": "stdout",
     "output_type": "stream",
     "text": [
      "Cantidad de observaciones con clase 0: 130113\n",
      "Cantidad de observaciones con clase 1: 106692\n"
     ]
    }
   ],
   "source": [
    "#IMPORTACION DE LIBRERIA\n",
    "from imblearn.over_sampling import SMOTE\n",
    "\n",
    "#PORCENTAJE DE REDUCCION VARIABLE MAYORITARIA\n",
    "perc_increase = int(sum(y==0)*0.82)\n",
    "\n",
    "#SET HIPERPARAMETRO\n",
    "sampling_strategy = {0:sum(y==0), 1:perc_increase}\n",
    "\n",
    "#INSTANCIA ,ENTRAMIENTO Y TRANSFORMACION DEL MODELO\n",
    "smote = SMOTE(sampling_strategy=sampling_strategy, random_state=24)\n",
    "x_over, y_over = smote.fit_resample(x, y)\n",
    "\n",
    "#RESULTADO\n",
    "print(f'Cantidad de observaciones con clase 0: {sum(y_over==0)}')\n",
    "print(f'Cantidad de observaciones con clase 1: {sum(y_over==1)}')"
   ]
  },
  {
   "cell_type": "markdown",
   "metadata": {},
   "source": [
    "### KNN - Entrenamiento y validacion simple del modelo"
   ]
  },
  {
   "cell_type": "markdown",
   "metadata": {},
   "source": [
    "#### Test UnderSample"
   ]
  },
  {
   "cell_type": "code",
   "execution_count": 158,
   "metadata": {},
   "outputs": [
    {
     "name": "stdout",
     "output_type": "stream",
     "text": [
      "Accuracy: 0.8447\n"
     ]
    }
   ],
   "source": [
    "#DIVISION DE DATOS PARA TRAIN Y TEST\n",
    "X_train, X_test, y_train, y_test = train_test_split(x_under, y_under, test_size=0.33, stratify=y_under,random_state=42)\n",
    "\n",
    "#IMPORTACION DE LIBRERIA\n",
    "from sklearn.neighbors import KNeighborsClassifier\n",
    "\n",
    "#INSTANCIA Y ENTRENAMIENTO DEL MODELO\n",
    "model = KNeighborsClassifier(n_neighbors=35)\n",
    "model.fit(X_train, y_train)\n",
    "\n",
    "#PREDICCION\n",
    "y_pred = model.predict(X_test)\n",
    "y_prob = model.predict_proba(X_test)[:,1]\n",
    "accuracy = accuracy_score(y_true=y_test ,y_pred=y_pred)\n",
    "print(f'Accuracy: {accuracy:.4f}')"
   ]
  },
  {
   "cell_type": "code",
   "execution_count": 159,
   "metadata": {},
   "outputs": [
    {
     "data": {
      "image/png": "[encoded data removed]",
      "text/plain": [
       "<Figure size 640x480 with 2 Axes>"
      ]
     },
     "metadata": {},
     "output_type": "display_data"
    }
   ],
   "source": [
    "#GRAFICO MATRIZ DE CONFUSION\n",
    "Metrics().plot_confusion_matrix_dicotomic(y_test, y_pred, None, None)"
   ]
  },
  {
   "cell_type": "code",
   "execution_count": 160,
   "metadata": {},
   "outputs": [
    {
     "name": "stdout",
     "output_type": "stream",
     "text": [
      "              precision    recall  f1-score   support\n",
      "\n",
      "           0       0.87      0.93      0.90     32203\n",
      "           1       0.76      0.60      0.67     11524\n",
      "\n",
      "    accuracy                           0.84     43727\n",
      "   macro avg       0.81      0.77      0.78     43727\n",
      "weighted avg       0.84      0.84      0.84     43727\n",
      "\n"
     ]
    }
   ],
   "source": [
    "#REPORTE\n",
    "from sklearn.metrics import classification_report\n",
    "print(classification_report(y_test, y_pred))"
   ]
  },
  {
   "cell_type": "code",
   "execution_count": 161,
   "metadata": {},
   "outputs": [
    {
     "name": "stdout",
     "output_type": "stream",
     "text": [
      "Score curva ROC: 0.8791\n"
     ]
    }
   ],
   "source": [
    "#SCORE CURVA ROC\n",
    "y_prob = model.predict_proba(X_test)[:,1]\n",
    "print(f'Score curva ROC: {roc_auc_score(y_test, y_prob):.4f}')"
   ]
  },
  {
   "cell_type": "code",
   "execution_count": 162,
   "metadata": {},
   "outputs": [],
   "source": [
    "#SE AGREGA METRICA A LA LISTA\n",
    "metrics_list = []\n",
    "metrics_list.append(Metrics().get_metrics('KNN', 'UnderSample', y_test, y_pred, y_prob))"
   ]
  },
  {
   "cell_type": "markdown",
   "metadata": {},
   "source": [
    "#### Test OverSample"
   ]
  },
  {
   "cell_type": "code",
   "execution_count": 163,
   "metadata": {},
   "outputs": [
    {
     "name": "stdout",
     "output_type": "stream",
     "text": [
      "Accuracy: 0.8111\n"
     ]
    }
   ],
   "source": [
    "#DIVISION DE DATOS PARA TRAIN Y TEST\n",
    "X_train, X_test, y_train, y_test = train_test_split(x_over, y_over, test_size=0.33, stratify=y_over,random_state=42)\n",
    "\n",
    "#IMPORTACION DE LIBRERIA\n",
    "from sklearn.neighbors import KNeighborsClassifier\n",
    "\n",
    "#INSTANCIA Y ENTRENAMIENTO DEL MODELO\n",
    "model = KNeighborsClassifier(n_neighbors=35)\n",
    "model.fit(X_train, y_train)\n",
    "\n",
    "#PREDICCION\n",
    "y_pred = model.predict(X_test)\n",
    "accuracy = accuracy_score(y_true=y_test ,y_pred=y_pred)\n",
    "print(f'Accuracy: {accuracy:.4f}')"
   ]
  },
  {
   "cell_type": "code",
   "execution_count": 164,
   "metadata": {},
   "outputs": [
    {
     "data": {
      "image/png": "[encoded data removed]",
      "text/plain": [
       "<Figure size 640x480 with 2 Axes>"
      ]
     },
     "metadata": {},
     "output_type": "display_data"
    }
   ],
   "source": [
    "#GRAFICO MATRIZ DE CONFUSION\n",
    "Metrics().plot_confusion_matrix_dicotomic(y_test, y_pred, None, None)"
   ]
  },
  {
   "cell_type": "code",
   "execution_count": 165,
   "metadata": {},
   "outputs": [
    {
     "name": "stdout",
     "output_type": "stream",
     "text": [
      "              precision    recall  f1-score   support\n",
      "\n",
      "           0       0.82      0.84      0.83     42937\n",
      "           1       0.80      0.78      0.79     35209\n",
      "\n",
      "    accuracy                           0.81     78146\n",
      "   macro avg       0.81      0.81      0.81     78146\n",
      "weighted avg       0.81      0.81      0.81     78146\n",
      "\n"
     ]
    }
   ],
   "source": [
    "#REPORTE\n",
    "from sklearn.metrics import classification_report\n",
    "print(classification_report(y_test, y_pred))"
   ]
  },
  {
   "cell_type": "code",
   "execution_count": 166,
   "metadata": {},
   "outputs": [
    {
     "name": "stdout",
     "output_type": "stream",
     "text": [
      "Score curva ROC: 0.8913\n"
     ]
    }
   ],
   "source": [
    "#SCORE CURVA ROC\n",
    "y_prob = model.predict_proba(X_test)[:,1]\n",
    "print(f'Score curva ROC: {roc_auc_score(y_test, y_prob):.4f}')"
   ]
  },
  {
   "cell_type": "code",
   "execution_count": 167,
   "metadata": {},
   "outputs": [],
   "source": [
    "#SE AGREGA METRICA A LA LISTA\n",
    "metrics_list.append(Metrics().get_metrics('KNN', 'OverSample', y_test, y_pred, y_prob))"
   ]
  },
  {
   "cell_type": "markdown",
   "metadata": {},
   "source": [
    "### Random Forest - Entrenamiento y validacion simple del modelo"
   ]
  },
  {
   "cell_type": "markdown",
   "metadata": {},
   "source": [
    "#### Test UnderSample"
   ]
  },
  {
   "cell_type": "code",
   "execution_count": 168,
   "metadata": {},
   "outputs": [],
   "source": [
    "#IMPOTRACION DE MODELO PARA TEST DE PARAMETROS\n",
    "from sklearn.model_selection import GridSearchCV\n",
    "from sklearn.ensemble import RandomForestClassifier\n",
    "\n",
    "grid_param = param_grid = {\n",
    "    'criterion' : ['entropy'],\n",
    "    'n_estimators': [200, 300],\n",
    "    'max_depth': [10, 18, 20],\n",
    "    'min_samples_split': [5, 10],\n",
    "    'min_samples_leaf': [2, 4],\n",
    "    'bootstrap': [True, False],\n",
    "    'random_state': [42]\n",
    "}"
   ]
  },
  {
   "cell_type": "code",
   "execution_count": 169,
   "metadata": {},
   "outputs": [
    {
     "name": "stdout",
     "output_type": "stream",
     "text": [
      "Accuracy: 0.8470\n"
     ]
    }
   ],
   "source": [
    "#DIVISION DE DATOS PARA TRAIN Y TEST\n",
    "X_train, X_test, y_train, y_test = train_test_split(x_under, y_under, test_size=0.33, stratify=y_under,random_state=42)\n",
    "\n",
    "#IMPORTACION DE LIBRERIA\n",
    "from sklearn.ensemble import RandomForestClassifier\n",
    "\n",
    "#INSTANCIA Y ENTRENAMIENTO DEL MODELO\n",
    "model = RandomForestClassifier( bootstrap=True,\n",
    "                                criterion='entropy',\n",
    "                                max_depth=10,\n",
    "                                min_samples_leaf=4,\n",
    "                                min_samples_split=5,\n",
    "                                n_estimators=200,\n",
    "                                random_state=42)\n",
    "model.fit(X_train, y_train)\n",
    "\n",
    "#PREDICCION\n",
    "y_pred = model.predict(X_test)\n",
    "accuracy = accuracy_score(y_true=y_test ,y_pred=y_pred)\n",
    "print(f'Accuracy: {accuracy:.4f}')"
   ]
  },
  {
   "cell_type": "code",
   "execution_count": 170,
   "metadata": {},
   "outputs": [
    {
     "data": {
      "image/png": "[encoded data removed]",
      "text/plain": [
       "<Figure size 640x480 with 2 Axes>"
      ]
     },
     "metadata": {},
     "output_type": "display_data"
    }
   ],
   "source": [
    "#GRAFICO DE MATRIZ DE CONFUSION\n",
    "Metrics().plot_confusion_matrix_dicotomic(y_test, y_pred, None, None)"
   ]
  },
  {
   "cell_type": "code",
   "execution_count": 171,
   "metadata": {},
   "outputs": [
    {
     "name": "stdout",
     "output_type": "stream",
     "text": [
      "              precision    recall  f1-score   support\n",
      "\n",
      "           0       0.87      0.93      0.90     32203\n",
      "           1       0.76      0.61      0.68     11524\n",
      "\n",
      "    accuracy                           0.85     43727\n",
      "   macro avg       0.82      0.77      0.79     43727\n",
      "weighted avg       0.84      0.85      0.84     43727\n",
      "\n"
     ]
    }
   ],
   "source": [
    "#REPORTE\n",
    "from sklearn.metrics import classification_report\n",
    "print(classification_report(y_test, y_pred))"
   ]
  },
  {
   "cell_type": "code",
   "execution_count": 172,
   "metadata": {},
   "outputs": [
    {
     "name": "stdout",
     "output_type": "stream",
     "text": [
      "Score curva ROC: 0.8865\n"
     ]
    }
   ],
   "source": [
    "#SCORE CURVA ROC\n",
    "y_prob = model.predict_proba(X_test)[:,1]\n",
    "print(f'Score curva ROC: {roc_auc_score(y_test, y_prob):.4f}')"
   ]
  },
  {
   "cell_type": "code",
   "execution_count": 173,
   "metadata": {},
   "outputs": [
    {
     "data": {
      "image/png": "[encoded data removed]",
      "text/plain": [
       "<Figure size 640x480 with 1 Axes>"
      ]
     },
     "metadata": {},
     "output_type": "display_data"
    }
   ],
   "source": [
    "#PLOT CURVE ROC\n",
    "Metrics().plot_roc_curve(y_test, y_prob)"
   ]
  },
  {
   "cell_type": "code",
   "execution_count": 174,
   "metadata": {},
   "outputs": [],
   "source": [
    "#SE AGREGA METRICA A LA LISTA\n",
    "metrics_list.append(Metrics().get_metrics('RandomForest', 'UnderSample', y_test, y_pred, y_prob))"
   ]
  },
  {
   "cell_type": "markdown",
   "metadata": {},
   "source": [
    "#### Test OverSample"
   ]
  },
  {
   "cell_type": "code",
   "execution_count": 175,
   "metadata": {},
   "outputs": [
    {
     "name": "stdout",
     "output_type": "stream",
     "text": [
      "Accuracy: 0.8154\n"
     ]
    }
   ],
   "source": [
    "#DIVISION DE DATOS PARA TRAIN Y TEST\n",
    "X_train, X_test, y_train, y_test = train_test_split(x_over, y_over, test_size=0.33, stratify=y_over,random_state=42)\n",
    "\n",
    "#IMPORTACION DE LIBRERIA\n",
    "from sklearn.ensemble import RandomForestClassifier\n",
    "\n",
    "#INSTANCIA Y ENTRENAMIENTO DEL MODELO\n",
    "model = RandomForestClassifier( bootstrap=True,\n",
    "                                criterion='entropy',\n",
    "                                max_depth=10,\n",
    "                                min_samples_leaf=4,\n",
    "                                min_samples_split=5,\n",
    "                                n_estimators=200,\n",
    "                                random_state=42)\n",
    "model.fit(X_train, y_train)\n",
    "\n",
    "#PREDICCION\n",
    "y_pred = model.predict(X_test)\n",
    "accuracy = accuracy_score(y_true=y_test ,y_pred=y_pred)\n",
    "print(f'Accuracy: {accuracy:.4f}')"
   ]
  },
  {
   "cell_type": "code",
   "execution_count": 176,
   "metadata": {},
   "outputs": [
    {
     "data": {
      "image/png": "[encoded data removed]",
      "text/plain": [
       "<Figure size 640x480 with 2 Axes>"
      ]
     },
     "metadata": {},
     "output_type": "display_data"
    }
   ],
   "source": [
    "#GRAFICO DE MATRIZ DE CONFUSION\n",
    "Metrics().plot_confusion_matrix_dicotomic(y_test, y_pred, None, None)"
   ]
  },
  {
   "cell_type": "code",
   "execution_count": 177,
   "metadata": {},
   "outputs": [
    {
     "name": "stdout",
     "output_type": "stream",
     "text": [
      "              precision    recall  f1-score   support\n",
      "\n",
      "           0       0.82      0.85      0.84     42937\n",
      "           1       0.81      0.77      0.79     35209\n",
      "\n",
      "    accuracy                           0.82     78146\n",
      "   macro avg       0.81      0.81      0.81     78146\n",
      "weighted avg       0.82      0.82      0.81     78146\n",
      "\n"
     ]
    }
   ],
   "source": [
    "#REPORTE\n",
    "from sklearn.metrics import classification_report\n",
    "print(classification_report(y_test, y_pred))"
   ]
  },
  {
   "cell_type": "code",
   "execution_count": 178,
   "metadata": {},
   "outputs": [
    {
     "name": "stdout",
     "output_type": "stream",
     "text": [
      "Score curva ROC: 0.8942\n"
     ]
    }
   ],
   "source": [
    "#SCORE CURVA ROC\n",
    "y_prob = model.predict_proba(X_test)[:,1]\n",
    "print(f'Score curva ROC: {roc_auc_score(y_test, y_prob):.4f}')"
   ]
  },
  {
   "cell_type": "code",
   "execution_count": 179,
   "metadata": {},
   "outputs": [],
   "source": [
    "#SE AGREGA METRICA A LA LISTA\n",
    "metrics_list.append(Metrics().get_metrics('RandomForest', 'OverSample', y_test, y_pred, y_prob))"
   ]
  },
  {
   "cell_type": "markdown",
   "metadata": {},
   "source": [
    "### XG-Boost - Entrenamiento y validacion simple del modelo"
   ]
  },
  {
   "cell_type": "markdown",
   "metadata": {},
   "source": [
    "#### Test UnderSample"
   ]
  },
  {
   "cell_type": "code",
   "execution_count": 180,
   "metadata": {},
   "outputs": [],
   "source": [
    "#IMPOTRACION DE MODELO PARA TEST DE PARAMETROS\n",
    "from sklearn.model_selection import GridSearchCV\n",
    "\n",
    "#GRILLA DE PARAMETROS PARA TESTEAR\n",
    "param_grid = {\n",
    "    'objective' :['binary:logistic'],\n",
    "    'max_depth': [10, 15],\n",
    "    'learning_rate': [0.1, 0.2],\n",
    "    'n_estimators': [9, 15],\n",
    "    'subsample': [0.8, 0.9],\n",
    "    'colsample_bytree': [0.8, 0.9],\n",
    "    'gamma': [0.1, 0.2],\n",
    "    'random_state': [47]\n",
    "}"
   ]
  },
  {
   "cell_type": "code",
   "execution_count": 181,
   "metadata": {},
   "outputs": [
    {
     "name": "stdout",
     "output_type": "stream",
     "text": [
      "Accuracy: 0.8473\n"
     ]
    }
   ],
   "source": [
    "#IMPORTACION MODELO DE BOOOSTING\n",
    "from xgboost import XGBClassifier\n",
    "\n",
    "#DIVISION DE DATOS PARA TRAIN Y TEST\n",
    "X_train, X_test, y_train, y_test = train_test_split(x_under, y_under, test_size=0.33, stratify=y_under,random_state=42)\n",
    "\n",
    "model = XGBClassifier( objective = 'binary:logistic',\n",
    "                       max_depth = 10,\n",
    "                       learning_rate = 0.2,\n",
    "                       n_estimators = 15,\n",
    "                       subsample = 0.9,\n",
    "                       colsample_bytree = 0.8,\n",
    "                       gamma = 0.2,\n",
    "                       random_state = 47)\n",
    "\n",
    "#ENTRENAMIENTO\n",
    "model.fit(X_train,y_train)\n",
    "\n",
    "#PREDICCION\n",
    "y_pred = model.predict(X_test)\n",
    "\n",
    "#SCORE\n",
    "accuracy = accuracy_score(y_true=y_test ,y_pred=y_pred)\n",
    "print(f'Accuracy: {accuracy:.4f}')"
   ]
  },
  {
   "cell_type": "code",
   "execution_count": 182,
   "metadata": {},
   "outputs": [
    {
     "data": {
      "image/png": "[encoded data removed]",
      "text/plain": [
       "<Figure size 640x480 with 2 Axes>"
      ]
     },
     "metadata": {},
     "output_type": "display_data"
    }
   ],
   "source": [
    "#GRAFICO MATRIZ DE CONFUSION\n",
    "Metrics().plot_confusion_matrix_dicotomic(y_test, y_pred, None, None)"
   ]
  },
  {
   "cell_type": "code",
   "execution_count": 183,
   "metadata": {},
   "outputs": [
    {
     "name": "stdout",
     "output_type": "stream",
     "text": [
      "              precision    recall  f1-score   support\n",
      "\n",
      "           0       0.87      0.93      0.90     32203\n",
      "           1       0.77      0.61      0.68     11524\n",
      "\n",
      "    accuracy                           0.85     43727\n",
      "   macro avg       0.82      0.77      0.79     43727\n",
      "weighted avg       0.84      0.85      0.84     43727\n",
      "\n"
     ]
    }
   ],
   "source": [
    "#REPORTE\n",
    "from sklearn.metrics import classification_report\n",
    "print(classification_report(y_test, y_pred))"
   ]
  },
  {
   "cell_type": "code",
   "execution_count": 184,
   "metadata": {},
   "outputs": [
    {
     "name": "stdout",
     "output_type": "stream",
     "text": [
      "Score curva ROC: 0.8865\n"
     ]
    }
   ],
   "source": [
    "#SCORE CURVA ROC\n",
    "y_prob = model.predict_proba(X_test)[:,1]\n",
    "print(f'Score curva ROC: {roc_auc_score(y_test, y_prob):.4f}')"
   ]
  },
  {
   "cell_type": "code",
   "execution_count": 185,
   "metadata": {},
   "outputs": [
    {
     "data": {
      "image/png": "[encoded data removed]",
      "text/plain": [
       "<Figure size 640x480 with 1 Axes>"
      ]
     },
     "metadata": {},
     "output_type": "display_data"
    }
   ],
   "source": [
    "#PLOT CURVE ROC\n",
    "Metrics().plot_roc_curve(y_test, y_prob)"
   ]
  },
  {
   "cell_type": "code",
   "execution_count": 186,
   "metadata": {},
   "outputs": [],
   "source": [
    "#SE AGREGA METRICA A LA LISTA\n",
    "metrics_list.append(Metrics().get_metrics('XGB', 'UnderSample', y_test, y_pred, y_prob))"
   ]
  },
  {
   "cell_type": "markdown",
   "metadata": {},
   "source": [
    "#### Test OverSample"
   ]
  },
  {
   "cell_type": "code",
   "execution_count": 187,
   "metadata": {},
   "outputs": [
    {
     "name": "stdout",
     "output_type": "stream",
     "text": [
      "Accuracy: 0.8225\n"
     ]
    }
   ],
   "source": [
    "#DIVISION DE DATOS PARA TRAIN Y TEST\n",
    "X_train, X_test, y_train, y_test = train_test_split(x_over, y_over, test_size=0.33, stratify=y_over,random_state=42)\n",
    "\n",
    "model = XGBClassifier( objective = 'binary:logistic',\n",
    "                       max_depth = 10,\n",
    "                       learning_rate = 0.2,\n",
    "                       n_estimators = 15,\n",
    "                       subsample = 0.9,\n",
    "                       colsample_bytree = 0.8,\n",
    "                       gamma = 0.2,\n",
    "                       random_state = 47)\n",
    "\n",
    "#ENTRENAMIENTO\n",
    "model.fit(X_train,y_train)\n",
    "\n",
    "#PREDICCION\n",
    "y_pred = model.predict(X_test)\n",
    "\n",
    "#SCORE\n",
    "accuracy = accuracy_score(y_true=y_test ,y_pred=y_pred)\n",
    "print(f'Accuracy: {accuracy:.4f}')"
   ]
  },
  {
   "cell_type": "code",
   "execution_count": 188,
   "metadata": {},
   "outputs": [
    {
     "data": {
      "image/png": "[encoded data removed]",
      "text/plain": [
       "<Figure size 640x480 with 2 Axes>"
      ]
     },
     "metadata": {},
     "output_type": "display_data"
    }
   ],
   "source": [
    "#GRAFICO MATRIZ DE CONFUSION\n",
    "Metrics().plot_confusion_matrix_dicotomic(y_test, y_pred, None, None)"
   ]
  },
  {
   "cell_type": "code",
   "execution_count": 189,
   "metadata": {},
   "outputs": [
    {
     "name": "stdout",
     "output_type": "stream",
     "text": [
      "              precision    recall  f1-score   support\n",
      "\n",
      "           0       0.83      0.85      0.84     42937\n",
      "           1       0.81      0.78      0.80     35209\n",
      "\n",
      "    accuracy                           0.82     78146\n",
      "   macro avg       0.82      0.82      0.82     78146\n",
      "weighted avg       0.82      0.82      0.82     78146\n",
      "\n"
     ]
    }
   ],
   "source": [
    "#REPORTE\n",
    "from sklearn.metrics import classification_report\n",
    "print(classification_report(y_test, y_pred))"
   ]
  },
  {
   "cell_type": "code",
   "execution_count": 190,
   "metadata": {},
   "outputs": [
    {
     "name": "stdout",
     "output_type": "stream",
     "text": [
      "Score curva ROC: 0.8999\n"
     ]
    }
   ],
   "source": [
    "#SCORE CURVA ROC\n",
    "y_prob = model.predict_proba(X_test)[:,1]\n",
    "print(f'Score curva ROC: {roc_auc_score(y_test, y_prob):.4f}')"
   ]
  },
  {
   "cell_type": "code",
   "execution_count": 191,
   "metadata": {},
   "outputs": [],
   "source": [
    "#SE AGREGA METRICA A LA LISTA\n",
    "metrics_list.append(Metrics().get_metrics('XGB', 'OverSample', y_test, y_pred, y_prob))"
   ]
  },
  {
   "cell_type": "markdown",
   "metadata": {},
   "source": [
    "### Evaluacion de metricas"
   ]
  },
  {
   "cell_type": "code",
   "execution_count": 192,
   "metadata": {},
   "outputs": [
    {
     "data": {
      "text/html": [
       "<div>\n",
       "<style scoped>\n",
       "    .dataframe tbody tr th:only-of-type {\n",
       "        vertical-align: middle;\n",
       "    }\n",
       "\n",
       "    .dataframe tbody tr th {\n",
       "        vertical-align: top;\n",
       "    }\n",
       "\n",
       "    .dataframe thead th {\n",
       "        text-align: right;\n",
       "    }\n",
       "</style>\n",
       "<table border=\"1\" class=\"dataframe\">\n",
       "  <thead>\n",
       "    <tr style=\"text-align: right;\">\n",
       "      <th></th>\n",
       "      <th>model</th>\n",
       "      <th>sample</th>\n",
       "      <th>accuracy</th>\n",
       "      <th>rog_score</th>\n",
       "      <th>precision_0</th>\n",
       "      <th>precision_1</th>\n",
       "      <th>recall_0</th>\n",
       "      <th>recall_1</th>\n",
       "      <th>f1_score_0</th>\n",
       "      <th>f1_score_1</th>\n",
       "    </tr>\n",
       "  </thead>\n",
       "  <tbody>\n",
       "    <tr>\n",
       "      <th>0</th>\n",
       "      <td>KNN</td>\n",
       "      <td>UnderSample</td>\n",
       "      <td>0.844718</td>\n",
       "      <td>0.879071</td>\n",
       "      <td>0.867335</td>\n",
       "      <td>0.759085</td>\n",
       "      <td>0.931652</td>\n",
       "      <td>0.601788</td>\n",
       "      <td>0.898344</td>\n",
       "      <td>0.671346</td>\n",
       "    </tr>\n",
       "    <tr>\n",
       "      <th>1</th>\n",
       "      <td>KNN</td>\n",
       "      <td>OverSample</td>\n",
       "      <td>0.811059</td>\n",
       "      <td>0.891299</td>\n",
       "      <td>0.823029</td>\n",
       "      <td>0.795947</td>\n",
       "      <td>0.835853</td>\n",
       "      <td>0.780823</td>\n",
       "      <td>0.829391</td>\n",
       "      <td>0.788312</td>\n",
       "    </tr>\n",
       "    <tr>\n",
       "      <th>2</th>\n",
       "      <td>RandomForest</td>\n",
       "      <td>UnderSample</td>\n",
       "      <td>0.847028</td>\n",
       "      <td>0.886456</td>\n",
       "      <td>0.869983</td>\n",
       "      <td>0.761436</td>\n",
       "      <td>0.931497</td>\n",
       "      <td>0.610986</td>\n",
       "      <td>0.899690</td>\n",
       "      <td>0.677964</td>\n",
       "    </tr>\n",
       "    <tr>\n",
       "      <th>3</th>\n",
       "      <td>RandomForest</td>\n",
       "      <td>OverSample</td>\n",
       "      <td>0.815435</td>\n",
       "      <td>0.894213</td>\n",
       "      <td>0.819778</td>\n",
       "      <td>0.809666</td>\n",
       "      <td>0.851224</td>\n",
       "      <td>0.771791</td>\n",
       "      <td>0.835205</td>\n",
       "      <td>0.790275</td>\n",
       "    </tr>\n",
       "    <tr>\n",
       "      <th>4</th>\n",
       "      <td>XGB</td>\n",
       "      <td>UnderSample</td>\n",
       "      <td>0.847325</td>\n",
       "      <td>0.886452</td>\n",
       "      <td>0.868578</td>\n",
       "      <td>0.766432</td>\n",
       "      <td>0.934012</td>\n",
       "      <td>0.605085</td>\n",
       "      <td>0.900108</td>\n",
       "      <td>0.676268</td>\n",
       "    </tr>\n",
       "    <tr>\n",
       "      <th>5</th>\n",
       "      <td>XGB</td>\n",
       "      <td>OverSample</td>\n",
       "      <td>0.822525</td>\n",
       "      <td>0.899885</td>\n",
       "      <td>0.828719</td>\n",
       "      <td>0.814452</td>\n",
       "      <td>0.853367</td>\n",
       "      <td>0.784913</td>\n",
       "      <td>0.840862</td>\n",
       "      <td>0.799410</td>\n",
       "    </tr>\n",
       "  </tbody>\n",
       "</table>\n",
       "</div>"
      ],
      "text/plain": [
       "          model       sample  accuracy  rog_score  precision_0  precision_1  \\\n",
       "0           KNN  UnderSample  0.844718   0.879071     0.867335     0.759085   \n",
       "1           KNN   OverSample  0.811059   0.891299     0.823029     0.795947   \n",
       "2  RandomForest  UnderSample  0.847028   0.886456     0.869983     0.761436   \n",
       "3  RandomForest   OverSample  0.815435   0.894213     0.819778     0.809666   \n",
       "4           XGB  UnderSample  0.847325   0.886452     0.868578     0.766432   \n",
       "5           XGB   OverSample  0.822525   0.899885     0.828719     0.814452   \n",
       "\n",
       "   recall_0  recall_1  f1_score_0  f1_score_1  \n",
       "0  0.931652  0.601788    0.898344    0.671346  \n",
       "1  0.835853  0.780823    0.829391    0.788312  \n",
       "2  0.931497  0.610986    0.899690    0.677964  \n",
       "3  0.851224  0.771791    0.835205    0.790275  \n",
       "4  0.934012  0.605085    0.900108    0.676268  \n",
       "5  0.853367  0.784913    0.840862    0.799410  "
      ]
     },
     "execution_count": 192,
     "metadata": {},
     "output_type": "execute_result"
    }
   ],
   "source": [
    "df_metrics = pd.DataFrame(metrics_list)\n",
    "df_metrics"
   ]
  },
  {
   "cell_type": "markdown",
   "metadata": {},
   "source": [
    "### Prediccion"
   ]
  },
  {
   "cell_type": "code",
   "execution_count": 131,
   "metadata": {},
   "outputs": [],
   "source": [
    "df_test = pd.read_csv('test.csv')"
   ]
  },
  {
   "cell_type": "code",
   "execution_count": 132,
   "metadata": {},
   "outputs": [],
   "source": [
    "#TRANSFORMACION VARIABLE GENDER\n",
    "df_test.loc[df_test.Gender == 'Female', 'Gender'] = '0'\n",
    "df_test.loc[df_test.Gender == 'Male', 'Gender'] = '1'\n",
    "df_test.Gender = df_test.Gender.astype(int)\n",
    "df_test.Gender.value_counts()\n",
    "\n",
    "#TRANSFORMACION DE VARIABLES CATEGORICAS\n",
    "dummies = pd.get_dummies(df_test['Geography'], dtype=int)\n",
    "dummies.head()\n",
    "\n",
    "#LISTA DE VARIABLES A NORMALIZAR\n",
    "vars = ['Age','Balance']\n",
    "\n",
    "#INSTANCIA DEL MODELO Y TRANSOFRMACION\n",
    "std_vars = StandardScaler().fit_transform(df_test[vars])\n",
    "\n",
    "#SE CREA DATAFRAME COMPLEMETARIO\n",
    "std_vars = pd.DataFrame(std_vars, columns=vars)\n",
    "\n",
    "#SELECCION DE VARIABLES\n",
    "vars = ['NumOfProducts','IsActiveMember','Gender']\n",
    "\n",
    "#VARIABLES PREDICTIVAS\n",
    "x = pd.concat([df_test[vars],\n",
    "                std_vars,\n",
    "                dummies], axis=1)\n",
    "\n",
    "#PREDICCION\n",
    "y_pred = model.predict(x)"
   ]
  },
  {
   "cell_type": "code",
   "execution_count": 133,
   "metadata": {},
   "outputs": [],
   "source": [
    "#CONCATENACION DE ARCHIVO PARA EXPORTAR\n",
    "y_pred = pd.Series(y_pred, name='Exited')\n",
    "sample_submission = pd.concat([df_test.id, y_pred], axis=1)"
   ]
  },
  {
   "cell_type": "code",
   "execution_count": 194,
   "metadata": {},
   "outputs": [],
   "source": [
    "#sample_submission.to_csv('submission.csv', index=False)"
   ]
  },
  {
   "cell_type": "code",
   "execution_count": 135,
   "metadata": {},
   "outputs": [
    {
     "data": {
      "text/html": [
       "<div>\n",
       "<style scoped>\n",
       "    .dataframe tbody tr th:only-of-type {\n",
       "        vertical-align: middle;\n",
       "    }\n",
       "\n",
       "    .dataframe tbody tr th {\n",
       "        vertical-align: top;\n",
       "    }\n",
       "\n",
       "    .dataframe thead th {\n",
       "        text-align: right;\n",
       "    }\n",
       "</style>\n",
       "<table border=\"1\" class=\"dataframe\">\n",
       "  <thead>\n",
       "    <tr style=\"text-align: right;\">\n",
       "      <th></th>\n",
       "      <th>id</th>\n",
       "      <th>Exited</th>\n",
       "    </tr>\n",
       "  </thead>\n",
       "  <tbody>\n",
       "    <tr>\n",
       "      <th>0</th>\n",
       "      <td>165034</td>\n",
       "      <td>0</td>\n",
       "    </tr>\n",
       "    <tr>\n",
       "      <th>1</th>\n",
       "      <td>165035</td>\n",
       "      <td>1</td>\n",
       "    </tr>\n",
       "    <tr>\n",
       "      <th>2</th>\n",
       "      <td>165036</td>\n",
       "      <td>0</td>\n",
       "    </tr>\n",
       "    <tr>\n",
       "      <th>3</th>\n",
       "      <td>165037</td>\n",
       "      <td>1</td>\n",
       "    </tr>\n",
       "    <tr>\n",
       "      <th>4</th>\n",
       "      <td>165038</td>\n",
       "      <td>1</td>\n",
       "    </tr>\n",
       "  </tbody>\n",
       "</table>\n",
       "</div>"
      ],
      "text/plain": [
       "       id  Exited\n",
       "0  165034       0\n",
       "1  165035       1\n",
       "2  165036       0\n",
       "3  165037       1\n",
       "4  165038       1"
      ]
     },
     "execution_count": 135,
     "metadata": {},
     "output_type": "execute_result"
    }
   ],
   "source": [
    "sample_submission.head()"
   ]
  }
 ],
 "metadata": {
  "kernelspec": {
   "display_name": "Python 3",
   "language": "python",
   "name": "python3"
  },
  "language_info": {
   "codemirror_mode": {
    "name": "ipython",
    "version": 3
   },
   "file_extension": ".py",
   "mimetype": "text/x-python",
   "name": "python",
   "nbconvert_exporter": "python",
   "pygments_lexer": "ipython3",
   "version": "3.12.2"
  }
 },
 "nbformat": 4,
 "nbformat_minor": 2
}
